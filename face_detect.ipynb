{
  "cells": [
    {
      "cell_type": "code",
      "execution_count": null,
      "metadata": {
        "id": "Ezm4-q3MgyBV"
      },
      "outputs": [],
      "source": [
        "!pip install batch-face opencv-python\n",
        "\n",
        "!mkdir -p checkpoints\n",
        "\n",
        "!wget -O checkpoints/mobilenet.pth \"https://huggingface.co/spaces/kaushikpandav/Lipsync_Antriksh_AI/resolve/a24a1bf9e93a245a80fcf33a7178576958e53e39/checkpoints/mobilenet.pth\"\n",
        "\n",
        "import cv2\n",
        "import math\n",
        "import numpy as np\n",
        "import csv\n",
        "from batch_face import RetinaFace\n",
        "from google.colab import files\n"
      ]
    },
    {
      "cell_type": "code",
      "execution_count": null,
      "metadata": {
        "id": "PDiU0pv4h2DV"
      },
      "outputs": [],
      "source": [
        "uploaded = files.upload()\n",
        "video_filename = list(uploaded.keys())[0]\n",
        "\n",
        "detector = RetinaFace(gpu_id=0, model_path=\"checkpoints/mobilenet.pth\",\n",
        "                      network=\"mobilenet\")\n",
        "\n",
        "cap = cv2.VideoCapture(video_filename)\n",
        "if not cap.isOpened():\n",
        "    raise IOError(\"Error opening video file\")\n",
        "\n",
        "fps = cap.get(cv2.CAP_PROP_FPS)\n",
        "\n",
        "max_faces = 0\n",
        "\n",
        "csv_filename = \"face_group_multiple.csv\"\n",
        "csv_file = open(csv_filename, mode='w', newline='')\n",
        "csv_writer = csv.writer(csv_file)\n",
        "csv_writer.writerow([\"frame\", \"face_id\", \"x1\", \"y1\", \"x2\", \"y2\"])\n",
        "\n",
        "frame_count = 0\n",
        "\n",
        "while cap.isOpened():\n",
        "    ret, frame = cap.read()\n",
        "    if not ret:\n",
        "        break\n",
        "\n",
        "    frame_count += 1\n",
        "\n",
        "    detections = detector([frame], threshold=0.94)\n",
        "\n",
        "    if detections and detections[0] is not None:\n",
        "        face_detections = detections[0]\n",
        "        face_count = len(face_detections)\n",
        "        if face_count > max_faces:\n",
        "            max_faces = face_count\n",
        "\n",
        "        for face_id, detection in enumerate(face_detections):\n",
        "            box, landmarks, score = detection\n",
        "            box = list(map(int, box))\n",
        "            x1, y1, x2, y2 = box\n",
        "            csv_writer.writerow([frame_count, face_id, x1, y1, x2, y2])\n",
        "\n",
        "cap.release()\n",
        "csv_file.close()\n",
        "\n",
        "from google.colab import files\n",
        "files.download(csv_filename)\n",
        "\n",
        "print(\"Processed {} frames.\".format(frame_count))\n",
        "print(f\"No of faces (max in a frame): {max_faces}\")\n",
        "print(\"CSV file with face bounding boxes saved as:\", csv_filename)"
      ]
    }
  ],
  "metadata": {
    "accelerator": "GPU",
    "colab": {
      "gpuType": "T4",
      "provenance": []
    },
    "kernelspec": {
      "display_name": "Python 3",
      "name": "python3"
    },
    "language_info": {
      "name": "python"
    }
  },
  "nbformat": 4,
  "nbformat_minor": 0
}